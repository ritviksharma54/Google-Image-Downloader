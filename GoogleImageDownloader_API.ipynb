{
  "nbformat": 4,
  "nbformat_minor": 0,
  "metadata": {
    "colab": {
      "provenance": [],
      "include_colab_link": true
    },
    "kernelspec": {
      "name": "python3",
      "display_name": "Python 3"
    },
    "language_info": {
      "name": "python"
    }
  },
  "cells": [
    {
      "cell_type": "markdown",
      "metadata": {
        "id": "view-in-github",
        "colab_type": "text"
      },
      "source": [
        "<a href=\"https://colab.research.google.com/github/ritviksharma54/Google-Image-Downloader/blob/main/GoogleImageDownloader_API.ipynb\" target=\"_parent\"><img src=\"https://colab.research.google.com/assets/colab-badge.svg\" alt=\"Open In Colab\"/></a>"
      ]
    },
    {
      "cell_type": "markdown",
      "source": [
        "### Install the google_images_search package"
      ],
      "metadata": {
        "id": "weS24oZf_jRr"
      }
    },
    {
      "cell_type": "code",
      "execution_count": null,
      "metadata": {
        "id": "-7PtF4dq_YDc"
      },
      "outputs": [],
      "source": [
        "!pip install google_images_search &> /dev/null"
      ]
    },
    {
      "cell_type": "markdown",
      "source": [
        "Downloading Image Function"
      ],
      "metadata": {
        "id": "XToztNc9_pyS"
      }
    },
    {
      "cell_type": "code",
      "source": [
        "from google_images_search import GoogleImagesSearch\n",
        "import zipfile\n",
        "import os\n",
        "# you can provide API key and CX using arguments,#custom search engine id\n",
        "# or you can set environment variables: GCS_DEVELOPER_KEY, GCS_CX\n",
        "gis = GoogleImagesSearch('YOUR_API_KEY' , '075bd9803b95143a2' , validate_images=True)\n",
        "def search(keyword, imageNumber):\n",
        "    _search_params = {\n",
        "        'q': keyword,\n",
        "        'num': imageNumber,\n",
        "        # 'safe': 'medium',\n",
        "        # 'fileType': 'jpg',\n",
        "        # 'imgType': 'photo',\n",
        "        # 'imgSize': 'MEDIUM',\n",
        "        # 'imgDominantColor': 'brown',\n",
        "        # 'rights': 'cc_publicdomain'\n",
        "    }\n",
        "    gis.search(search_params=_search_params, path_to_dir='./imagesfromgoogle/')\n",
        "search('Grain',100)"
      ],
      "metadata": {
        "id": "pqqUXdbT_pWz"
      },
      "execution_count": null,
      "outputs": []
    },
    {
      "cell_type": "code",
      "source": [
        "import shutil\n",
        "\n",
        "# Compress the directory into a zip file\n",
        "shutil.make_archive('/content/imagesfromgoogle', 'zip', '/content/imagesfromgoogle')"
      ],
      "metadata": {
        "id": "eMa_H6vcOJsD"
      },
      "execution_count": null,
      "outputs": []
    }
  ]
}